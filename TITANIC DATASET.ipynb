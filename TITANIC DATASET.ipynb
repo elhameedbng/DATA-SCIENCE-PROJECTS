{
 "cells": [
  {
   "cell_type": "markdown",
   "id": "b0a27395",
   "metadata": {},
   "source": [
    "<div style=\"text-align: center; background-color: cream;\">\n",
    "  <h1 style=\"color: #4B0082, font-family: 'Merriweather', serif;\">TITANIC DATASET ANALYSIS</h1>\n",
    "    <br>\n",
    "    <b>By Abdulhamid Abdulhamid</b>\n",
    "</div>"
   ]
  },
  {
   "cell_type": "markdown",
   "id": "87ffb5e9",
   "metadata": {},
   "source": [
    "<img src=\"https://storage.googleapis.com/kaggle-datasets-images/1893363/3100063/fa7569e349d653979306e888a99e560e/dataset-cover.jpg?t=2022-01-27-08-04-32\" alt=\"image name\" style=\"max-width: 100%;\">\n",
    "\n",
    "## Table of Contents\n",
    "<ul>\n",
    "<li><a href=\"#intro\">1. Introduction</a></li>\n",
    "<li><a href=\"#wrangling\">2. Data Wrangling</a></li>\n",
    "<li><a href=\"#eda\">3. Exploratory Data Analysis</a></li>\n",
    "<li><a href=\"#CONCLUSIONS\">4. Model Selection And Evaluation</a></li>\n",
    "<li><a href=\"#CONCLUSIONS\">5. Conclusion</a></li>\n",
    "</ul>"
   ]
  },
  {
   "cell_type": "markdown",
   "id": "c59b2fef",
   "metadata": {},
   "source": [
    "<div id='intro'></div>\n",
    "\n",
    "## 1. Introduction\n",
    "The Titanic Survival dataset is a widely-used dataset in the field of machine learning and data analysis. It contains information about the passengers on board the RMS Titanic, including whether they survived the shipwreck or not.In this notebook, we explore the data to get some valuabke insights. we also use some ML techniques to make predictions. \n",
    "\n",
    "\n",
    "### 1.1 Dataset description\n",
    "The file `titanic.csv` was obtained from [Kaggle](https://www.kaggle.com/datasets/yasserh/titanic-dataset) website. It consists of crude oil importation to the US from 2009 to 2024. The file has the following:\n",
    "\n",
    "- `Passenger Information`: This section includes data about the passengers, such as their `names, gender, age, and passenger class (First, Second, or Third Class)`. This information provides insights into the demographics of the passengers on board.\n",
    "\n",
    "- `Ticket Information`: Ticket information includes details about the passengers' `ticket numbers, fares paid, and cabin information.` This data can be used to analyze patterns related to ticket prices and cabin locations.\n",
    "\n",
    "- `Travel Details`: Travel details provide information about the passengers' travel arrangements, such as the port of embarkation (Cherbourg, Queenstown, or Southampton) and the destination of the journey.\n",
    "\n",
    "- `Family Relationships`: This section includes data about the family relationships of passengers, including the number of `siblings/spouses (SibSp) and the number of parents/children` (Parch) they were traveling with. These variables can be used to analyze the presence of family groups on board.\n",
    "\n",
    "- `Survival Status`: The survival status field indicates whether a passenger survived the Titanic disaster or not. This binary variable is typically represented as `1 (survived) or 0 (did not survive)`. This field serves as the target variable for prediction models."
   ]
  },
  {
   "cell_type": "markdown",
   "id": "c1a8161c",
   "metadata": {},
   "source": [
    "### 1.2 Importing dependencies\n",
    "The following packages are essential to running this project successfully: `numpy, pandas, matplotlib, seaborn, and sklearn"
   ]
  },
  {
   "cell_type": "code",
   "execution_count": 1,
   "id": "37f8b61a",
   "metadata": {},
   "outputs": [],
   "source": [
    "# importing data analysis libraries\n",
    "import numpy as np\n",
    "import pandas as pd\n",
    "\n",
    "# importing visualization libraries\n",
    "import matplotlib.pyplot as plt\n",
    "%matplotlib inline\n",
    "\n",
    "import seaborn as sns\n",
    "# overriding matplotlib \n",
    "sns.set()\n",
    "\n",
    "# import datetime\n",
    "import datetime as dt\n",
    "\n",
    "# import the preprocessing classes\n",
    "from sklearn.preprocessing import StandardScaler\n",
    "from sklearn.preprocessing import MinMaxScaler\n",
    "from sklearn.preprocessing import LabelEncoder\n",
    "\n",
    "# import train/test split module\n",
    "from sklearn.model_selection import train_test_split\n",
    "\n",
    "# import the regressors\n",
    "from sklearn.linear_model import LinearRegression\n",
    "from sklearn.preprocessing import PolynomialFeatures\n",
    "from sklearn.pipeline import Pipeline\n",
    "from sklearn.linear_model import Ridge\n",
    "from sklearn.linear_model import Lasso\n",
    "from sklearn.linear_model import ElasticNet\n",
    "from sklearn.tree import DecisionTreeRegressor\n",
    "from sklearn.ensemble import RandomForestRegressor\n",
    "from sklearn.ensemble import GradientBoostingRegressor\n",
    "from sklearn.neural_network import MLPRegressor\n",
    "from sklearn.svm import SVR\n",
    "from sklearn.neighbors import KNeighborsRegressor\n",
    "from sklearn.pipeline import make_pipeline\n",
    "\n",
    "# import metrics\n",
    "from sklearn.metrics import mean_squared_error\n",
    "\n",
    "# import warnings\n",
    "import warnings \n",
    "warnings.filterwarnings('ignore')"
   ]
  },
  {
   "cell_type": "markdown",
   "id": "a8927bdd",
   "metadata": {},
   "source": [
    "### 1.3 Loading the dataset"
   ]
  },
  {
   "cell_type": "code",
   "execution_count": 2,
   "id": "f5a751c6",
   "metadata": {},
   "outputs": [
    {
     "data": {
      "text/html": [
       "<div>\n",
       "<style scoped>\n",
       "    .dataframe tbody tr th:only-of-type {\n",
       "        vertical-align: middle;\n",
       "    }\n",
       "\n",
       "    .dataframe tbody tr th {\n",
       "        vertical-align: top;\n",
       "    }\n",
       "\n",
       "    .dataframe thead th {\n",
       "        text-align: right;\n",
       "    }\n",
       "</style>\n",
       "<table border=\"1\" class=\"dataframe\">\n",
       "  <thead>\n",
       "    <tr style=\"text-align: right;\">\n",
       "      <th></th>\n",
       "      <th>PassengerId</th>\n",
       "      <th>Survived</th>\n",
       "      <th>Pclass</th>\n",
       "      <th>Name</th>\n",
       "      <th>Sex</th>\n",
       "      <th>Age</th>\n",
       "      <th>SibSp</th>\n",
       "      <th>Parch</th>\n",
       "      <th>Ticket</th>\n",
       "      <th>Fare</th>\n",
       "      <th>Cabin</th>\n",
       "      <th>Embarked</th>\n",
       "    </tr>\n",
       "  </thead>\n",
       "  <tbody>\n",
       "    <tr>\n",
       "      <th>0</th>\n",
       "      <td>1</td>\n",
       "      <td>0</td>\n",
       "      <td>3</td>\n",
       "      <td>Braund, Mr. Owen Harris</td>\n",
       "      <td>male</td>\n",
       "      <td>22.0</td>\n",
       "      <td>1</td>\n",
       "      <td>0</td>\n",
       "      <td>A/5 21171</td>\n",
       "      <td>7.2500</td>\n",
       "      <td>NaN</td>\n",
       "      <td>S</td>\n",
       "    </tr>\n",
       "    <tr>\n",
       "      <th>1</th>\n",
       "      <td>2</td>\n",
       "      <td>1</td>\n",
       "      <td>1</td>\n",
       "      <td>Cumings, Mrs. John Bradley (Florence Briggs Th...</td>\n",
       "      <td>female</td>\n",
       "      <td>38.0</td>\n",
       "      <td>1</td>\n",
       "      <td>0</td>\n",
       "      <td>PC 17599</td>\n",
       "      <td>71.2833</td>\n",
       "      <td>C85</td>\n",
       "      <td>C</td>\n",
       "    </tr>\n",
       "    <tr>\n",
       "      <th>2</th>\n",
       "      <td>3</td>\n",
       "      <td>1</td>\n",
       "      <td>3</td>\n",
       "      <td>Heikkinen, Miss. Laina</td>\n",
       "      <td>female</td>\n",
       "      <td>26.0</td>\n",
       "      <td>0</td>\n",
       "      <td>0</td>\n",
       "      <td>STON/O2. 3101282</td>\n",
       "      <td>7.9250</td>\n",
       "      <td>NaN</td>\n",
       "      <td>S</td>\n",
       "    </tr>\n",
       "    <tr>\n",
       "      <th>3</th>\n",
       "      <td>4</td>\n",
       "      <td>1</td>\n",
       "      <td>1</td>\n",
       "      <td>Futrelle, Mrs. Jacques Heath (Lily May Peel)</td>\n",
       "      <td>female</td>\n",
       "      <td>35.0</td>\n",
       "      <td>1</td>\n",
       "      <td>0</td>\n",
       "      <td>113803</td>\n",
       "      <td>53.1000</td>\n",
       "      <td>C123</td>\n",
       "      <td>S</td>\n",
       "    </tr>\n",
       "    <tr>\n",
       "      <th>4</th>\n",
       "      <td>5</td>\n",
       "      <td>0</td>\n",
       "      <td>3</td>\n",
       "      <td>Allen, Mr. William Henry</td>\n",
       "      <td>male</td>\n",
       "      <td>35.0</td>\n",
       "      <td>0</td>\n",
       "      <td>0</td>\n",
       "      <td>373450</td>\n",
       "      <td>8.0500</td>\n",
       "      <td>NaN</td>\n",
       "      <td>S</td>\n",
       "    </tr>\n",
       "  </tbody>\n",
       "</table>\n",
       "</div>"
      ],
      "text/plain": [
       "   PassengerId  Survived  Pclass  \\\n",
       "0            1         0       3   \n",
       "1            2         1       1   \n",
       "2            3         1       3   \n",
       "3            4         1       1   \n",
       "4            5         0       3   \n",
       "\n",
       "                                                Name     Sex   Age  SibSp  \\\n",
       "0                            Braund, Mr. Owen Harris    male  22.0      1   \n",
       "1  Cumings, Mrs. John Bradley (Florence Briggs Th...  female  38.0      1   \n",
       "2                             Heikkinen, Miss. Laina  female  26.0      0   \n",
       "3       Futrelle, Mrs. Jacques Heath (Lily May Peel)  female  35.0      1   \n",
       "4                           Allen, Mr. William Henry    male  35.0      0   \n",
       "\n",
       "   Parch            Ticket     Fare Cabin Embarked  \n",
       "0      0         A/5 21171   7.2500   NaN        S  \n",
       "1      0          PC 17599  71.2833   C85        C  \n",
       "2      0  STON/O2. 3101282   7.9250   NaN        S  \n",
       "3      0            113803  53.1000  C123        S  \n",
       "4      0            373450   8.0500   NaN        S  "
      ]
     },
     "execution_count": 2,
     "metadata": {},
     "output_type": "execute_result"
    }
   ],
   "source": [
    "df = pd.read_csv('titanic.csv')\n",
    "df.head()"
   ]
  },
  {
   "cell_type": "code",
   "execution_count": 3,
   "id": "3156c91d",
   "metadata": {},
   "outputs": [
    {
     "data": {
      "text/html": [
       "<div>\n",
       "<style scoped>\n",
       "    .dataframe tbody tr th:only-of-type {\n",
       "        vertical-align: middle;\n",
       "    }\n",
       "\n",
       "    .dataframe tbody tr th {\n",
       "        vertical-align: top;\n",
       "    }\n",
       "\n",
       "    .dataframe thead th {\n",
       "        text-align: right;\n",
       "    }\n",
       "</style>\n",
       "<table border=\"1\" class=\"dataframe\">\n",
       "  <thead>\n",
       "    <tr style=\"text-align: right;\">\n",
       "      <th></th>\n",
       "      <th>PassengerId</th>\n",
       "      <th>Survived</th>\n",
       "      <th>Pclass</th>\n",
       "      <th>Name</th>\n",
       "      <th>Sex</th>\n",
       "      <th>Age</th>\n",
       "      <th>SibSp</th>\n",
       "      <th>Parch</th>\n",
       "      <th>Ticket</th>\n",
       "      <th>Fare</th>\n",
       "      <th>Cabin</th>\n",
       "      <th>Embarked</th>\n",
       "    </tr>\n",
       "  </thead>\n",
       "  <tbody>\n",
       "    <tr>\n",
       "      <th>886</th>\n",
       "      <td>887</td>\n",
       "      <td>0</td>\n",
       "      <td>2</td>\n",
       "      <td>Montvila, Rev. Juozas</td>\n",
       "      <td>male</td>\n",
       "      <td>27.0</td>\n",
       "      <td>0</td>\n",
       "      <td>0</td>\n",
       "      <td>211536</td>\n",
       "      <td>13.00</td>\n",
       "      <td>NaN</td>\n",
       "      <td>S</td>\n",
       "    </tr>\n",
       "    <tr>\n",
       "      <th>887</th>\n",
       "      <td>888</td>\n",
       "      <td>1</td>\n",
       "      <td>1</td>\n",
       "      <td>Graham, Miss. Margaret Edith</td>\n",
       "      <td>female</td>\n",
       "      <td>19.0</td>\n",
       "      <td>0</td>\n",
       "      <td>0</td>\n",
       "      <td>112053</td>\n",
       "      <td>30.00</td>\n",
       "      <td>B42</td>\n",
       "      <td>S</td>\n",
       "    </tr>\n",
       "    <tr>\n",
       "      <th>888</th>\n",
       "      <td>889</td>\n",
       "      <td>0</td>\n",
       "      <td>3</td>\n",
       "      <td>Johnston, Miss. Catherine Helen \"Carrie\"</td>\n",
       "      <td>female</td>\n",
       "      <td>NaN</td>\n",
       "      <td>1</td>\n",
       "      <td>2</td>\n",
       "      <td>W./C. 6607</td>\n",
       "      <td>23.45</td>\n",
       "      <td>NaN</td>\n",
       "      <td>S</td>\n",
       "    </tr>\n",
       "    <tr>\n",
       "      <th>889</th>\n",
       "      <td>890</td>\n",
       "      <td>1</td>\n",
       "      <td>1</td>\n",
       "      <td>Behr, Mr. Karl Howell</td>\n",
       "      <td>male</td>\n",
       "      <td>26.0</td>\n",
       "      <td>0</td>\n",
       "      <td>0</td>\n",
       "      <td>111369</td>\n",
       "      <td>30.00</td>\n",
       "      <td>C148</td>\n",
       "      <td>C</td>\n",
       "    </tr>\n",
       "    <tr>\n",
       "      <th>890</th>\n",
       "      <td>891</td>\n",
       "      <td>0</td>\n",
       "      <td>3</td>\n",
       "      <td>Dooley, Mr. Patrick</td>\n",
       "      <td>male</td>\n",
       "      <td>32.0</td>\n",
       "      <td>0</td>\n",
       "      <td>0</td>\n",
       "      <td>370376</td>\n",
       "      <td>7.75</td>\n",
       "      <td>NaN</td>\n",
       "      <td>Q</td>\n",
       "    </tr>\n",
       "  </tbody>\n",
       "</table>\n",
       "</div>"
      ],
      "text/plain": [
       "     PassengerId  Survived  Pclass                                      Name  \\\n",
       "886          887         0       2                     Montvila, Rev. Juozas   \n",
       "887          888         1       1              Graham, Miss. Margaret Edith   \n",
       "888          889         0       3  Johnston, Miss. Catherine Helen \"Carrie\"   \n",
       "889          890         1       1                     Behr, Mr. Karl Howell   \n",
       "890          891         0       3                       Dooley, Mr. Patrick   \n",
       "\n",
       "        Sex   Age  SibSp  Parch      Ticket   Fare Cabin Embarked  \n",
       "886    male  27.0      0      0      211536  13.00   NaN        S  \n",
       "887  female  19.0      0      0      112053  30.00   B42        S  \n",
       "888  female   NaN      1      2  W./C. 6607  23.45   NaN        S  \n",
       "889    male  26.0      0      0      111369  30.00  C148        C  \n",
       "890    male  32.0      0      0      370376   7.75   NaN        Q  "
      ]
     },
     "execution_count": 3,
     "metadata": {},
     "output_type": "execute_result"
    }
   ],
   "source": [
    "df.tail()"
   ]
  },
  {
   "cell_type": "code",
   "execution_count": 4,
   "id": "da55d679",
   "metadata": {},
   "outputs": [
    {
     "name": "stdout",
     "output_type": "stream",
     "text": [
      "There are 891 rows and  12 columns in the dataset\n"
     ]
    }
   ],
   "source": [
    "# Check the shape of the dataset\n",
    "print(\"There are\", df.shape[0], \"rows and \", df.shape[1], \"columns in the dataset\")"
   ]
  },
  {
   "cell_type": "markdown",
   "id": "edaa1186",
   "metadata": {},
   "source": [
    "<div id='wrangling'></div>\n",
    "\n",
    "## 2. Data Wrangling\n",
    "In this section, we will identify and address any errors, inconsistencies, missing values, or duplicate entries in the dataset. This will ensure that the dataset is accurate, consistent, and complete, and will make it more suitable for analysis. \n",
    "\n",
    "Thus we will address the following questions to ensure the quality and reliability of the dataset:\n",
    "1. Check for missing values, duplicates, and outliers. These are all issues that may affect our analysis.\n",
    "\n",
    "**1. Are there any missing values in the dataset, and if so, what is their extent and data type?**"
   ]
  },
  {
   "cell_type": "code",
   "execution_count": 5,
   "id": "31379f12",
   "metadata": {},
   "outputs": [
    {
     "data": {
      "text/plain": [
       "PassengerId      0\n",
       "Survived         0\n",
       "Pclass           0\n",
       "Name             0\n",
       "Sex              0\n",
       "Age            177\n",
       "SibSp            0\n",
       "Parch            0\n",
       "Ticket           0\n",
       "Fare             0\n",
       "Cabin          687\n",
       "Embarked         2\n",
       "dtype: int64"
      ]
     },
     "execution_count": 5,
     "metadata": {},
     "output_type": "execute_result"
    }
   ],
   "source": [
    "df.isnull().sum()"
   ]
  },
  {
   "cell_type": "markdown",
   "id": "454fa377",
   "metadata": {},
   "source": [
    "The missing values in Age would be replace by the median value while the embarked missing values with the mode.\n",
    "The median is suitable to use because it is insensitive to outliers. the mode is the most frequent value or category in a dataset which makes it a good fit for this case."
   ]
  },
  {
   "cell_type": "code",
   "execution_count": 6,
   "id": "2b2ce955",
   "metadata": {},
   "outputs": [],
   "source": [
    "#Replace missing age values with the median\n",
    "df['Age'].fillna(df['Age'].median(), inplace=True)\n",
    "\n",
    "# Replace the missing embarked values with the mode\n",
    "df['Embarked'].fillna(df['Embarked'].mode()[0], inplace=True)"
   ]
  },
  {
   "cell_type": "code",
   "execution_count": 7,
   "id": "c1e007c1",
   "metadata": {
    "scrolled": true
   },
   "outputs": [
    {
     "data": {
      "text/plain": [
       "PassengerId      0\n",
       "Survived         0\n",
       "Pclass           0\n",
       "Name             0\n",
       "Sex              0\n",
       "Age              0\n",
       "SibSp            0\n",
       "Parch            0\n",
       "Ticket           0\n",
       "Fare             0\n",
       "Cabin          687\n",
       "Embarked         0\n",
       "dtype: int64"
      ]
     },
     "execution_count": 7,
     "metadata": {},
     "output_type": "execute_result"
    }
   ],
   "source": [
    "df.isnull().sum()"
   ]
  },
  {
   "cell_type": "markdown",
   "id": "4ed75a63",
   "metadata": {},
   "source": [
    "No more null values in `Age` and `Embarked` columns. However, the cabin column contains a lot of null values, so we can drop it entirely"
   ]
  },
  {
   "cell_type": "code",
   "execution_count": 8,
   "id": "92ea3b3b",
   "metadata": {},
   "outputs": [
    {
     "name": "stdout",
     "output_type": "stream",
     "text": [
      "<class 'pandas.core.frame.DataFrame'>\n",
      "RangeIndex: 891 entries, 0 to 890\n",
      "Data columns (total 11 columns):\n",
      " #   Column       Non-Null Count  Dtype  \n",
      "---  ------       --------------  -----  \n",
      " 0   PassengerId  891 non-null    int64  \n",
      " 1   Survived     891 non-null    int64  \n",
      " 2   Pclass       891 non-null    int64  \n",
      " 3   Name         891 non-null    object \n",
      " 4   Sex          891 non-null    object \n",
      " 5   Age          891 non-null    float64\n",
      " 6   SibSp        891 non-null    int64  \n",
      " 7   Parch        891 non-null    int64  \n",
      " 8   Ticket       891 non-null    object \n",
      " 9   Fare         891 non-null    float64\n",
      " 10  Embarked     891 non-null    object \n",
      "dtypes: float64(2), int64(5), object(4)\n",
      "memory usage: 76.7+ KB\n"
     ]
    }
   ],
   "source": [
    "# Drop the'Cabin' column as it has many missing values\n",
    "df.drop(columns=['Cabin'], inplace=True)\n",
    "df.info()"
   ]
  },
  {
   "cell_type": "markdown",
   "id": "4f466af0",
   "metadata": {},
   "source": [
    "**2. Are there are any duplicate values?**"
   ]
  },
  {
   "cell_type": "code",
   "execution_count": 9,
   "id": "b2c6f5f0",
   "metadata": {},
   "outputs": [
    {
     "data": {
      "text/html": [
       "<div>\n",
       "<style scoped>\n",
       "    .dataframe tbody tr th:only-of-type {\n",
       "        vertical-align: middle;\n",
       "    }\n",
       "\n",
       "    .dataframe tbody tr th {\n",
       "        vertical-align: top;\n",
       "    }\n",
       "\n",
       "    .dataframe thead th {\n",
       "        text-align: right;\n",
       "    }\n",
       "</style>\n",
       "<table border=\"1\" class=\"dataframe\">\n",
       "  <thead>\n",
       "    <tr style=\"text-align: right;\">\n",
       "      <th></th>\n",
       "      <th>PassengerId</th>\n",
       "      <th>Survived</th>\n",
       "      <th>Pclass</th>\n",
       "      <th>Name</th>\n",
       "      <th>Sex</th>\n",
       "      <th>Age</th>\n",
       "      <th>SibSp</th>\n",
       "      <th>Parch</th>\n",
       "      <th>Ticket</th>\n",
       "      <th>Fare</th>\n",
       "      <th>Embarked</th>\n",
       "    </tr>\n",
       "  </thead>\n",
       "  <tbody>\n",
       "  </tbody>\n",
       "</table>\n",
       "</div>"
      ],
      "text/plain": [
       "Empty DataFrame\n",
       "Columns: [PassengerId, Survived, Pclass, Name, Sex, Age, SibSp, Parch, Ticket, Fare, Embarked]\n",
       "Index: []"
      ]
     },
     "execution_count": 9,
     "metadata": {},
     "output_type": "execute_result"
    }
   ],
   "source": [
    "# Check for duplicate rows\n",
    "duplicate_rows = df[df.duplicated()]\n",
    "\n",
    "duplicate_rows"
   ]
  },
  {
   "cell_type": "markdown",
   "id": "1fcf82b1",
   "metadata": {},
   "source": [
    "No duplicates found"
   ]
  },
  {
   "cell_type": "markdown",
   "id": "1107586b",
   "metadata": {},
   "source": [
    "**3. Does the dataset require any feature engineering?**\n",
    "\n",
    "Yes, the columns `SibSp`, `Parch`, simply indicates the size of the column, so we can create a column called the `FamilySize`. Also the Titles needs to be consistent\n"
   ]
  },
  {
   "cell_type": "code",
   "execution_count": 10,
   "id": "6971f8a3",
   "metadata": {},
   "outputs": [],
   "source": [
    "# Feature Engineering\n",
    "df['FamilySize'] = df['SibSp'] + df['Parch']\n",
    "df['IsAlone'] = (df['FamilySize'] == 0).astype(int)\n",
    "df['Title'] = df['Name'].apply(lambda name: name.split(',')[1].split('.')[0].strip())\n",
    "\n",
    "# Simplify the titles\n",
    "title_mapping = {\n",
    "    \"Mr\": \"Mr\", \"Miss\": \"Miss\", \"Mrs\": \"Mrs\", \"Master\": \"Master\", \"Dr\": \"Dr\",\n",
    "    \"Rev\": \"Rev\", \"Col\": \"Officer\", \"Major\": \"Officer\", \"Mlle\": \"Miss\",\n",
    "    \"Countess\": \"Royalty\", \"Ms\": \"Mrs\", \"Lady\": \"Royalty\", \"Jonkheer\": \"Royalty\",\n",
    "    \"Don\": \"Royalty\", \"Dona\": \"Royalty\", \"Mme\": \"Mrs\", \"Capt\": \"Officer\", \"Sir\": \"Royalty\"\n",
    "}\n",
    "df['Title'] = df['Title'].map(title_mapping)"
   ]
  },
  {
   "cell_type": "markdown",
   "id": "103e1ef1",
   "metadata": {},
   "source": [
    "<div id='eda'></div>\n",
    "\n",
    "## 3. Exploratory Data Analysis\n",
    "\n",
    "This section explores the dataset in order to extract useful information."
   ]
  },
  {
   "cell_type": "markdown",
   "id": "df09192b",
   "metadata": {},
   "source": [
    "**1. What is the summary statistics of the dataset?**"
   ]
  },
  {
   "cell_type": "code",
   "execution_count": 11,
   "id": "abccfbaa",
   "metadata": {},
   "outputs": [
    {
     "data": {
      "text/html": [
       "<div>\n",
       "<style scoped>\n",
       "    .dataframe tbody tr th:only-of-type {\n",
       "        vertical-align: middle;\n",
       "    }\n",
       "\n",
       "    .dataframe tbody tr th {\n",
       "        vertical-align: top;\n",
       "    }\n",
       "\n",
       "    .dataframe thead th {\n",
       "        text-align: right;\n",
       "    }\n",
       "</style>\n",
       "<table border=\"1\" class=\"dataframe\">\n",
       "  <thead>\n",
       "    <tr style=\"text-align: right;\">\n",
       "      <th></th>\n",
       "      <th>PassengerId</th>\n",
       "      <th>Survived</th>\n",
       "      <th>Pclass</th>\n",
       "      <th>Age</th>\n",
       "      <th>SibSp</th>\n",
       "      <th>Parch</th>\n",
       "      <th>Fare</th>\n",
       "      <th>FamilySize</th>\n",
       "      <th>IsAlone</th>\n",
       "    </tr>\n",
       "  </thead>\n",
       "  <tbody>\n",
       "    <tr>\n",
       "      <th>count</th>\n",
       "      <td>891.000000</td>\n",
       "      <td>891.000000</td>\n",
       "      <td>891.000000</td>\n",
       "      <td>891.000000</td>\n",
       "      <td>891.000000</td>\n",
       "      <td>891.000000</td>\n",
       "      <td>891.000000</td>\n",
       "      <td>891.000000</td>\n",
       "      <td>891.000000</td>\n",
       "    </tr>\n",
       "    <tr>\n",
       "      <th>mean</th>\n",
       "      <td>446.000000</td>\n",
       "      <td>0.383838</td>\n",
       "      <td>2.308642</td>\n",
       "      <td>29.361582</td>\n",
       "      <td>0.523008</td>\n",
       "      <td>0.381594</td>\n",
       "      <td>32.204208</td>\n",
       "      <td>0.904602</td>\n",
       "      <td>0.602694</td>\n",
       "    </tr>\n",
       "    <tr>\n",
       "      <th>std</th>\n",
       "      <td>257.353842</td>\n",
       "      <td>0.486592</td>\n",
       "      <td>0.836071</td>\n",
       "      <td>13.019697</td>\n",
       "      <td>1.102743</td>\n",
       "      <td>0.806057</td>\n",
       "      <td>49.693429</td>\n",
       "      <td>1.613459</td>\n",
       "      <td>0.489615</td>\n",
       "    </tr>\n",
       "    <tr>\n",
       "      <th>min</th>\n",
       "      <td>1.000000</td>\n",
       "      <td>0.000000</td>\n",
       "      <td>1.000000</td>\n",
       "      <td>0.420000</td>\n",
       "      <td>0.000000</td>\n",
       "      <td>0.000000</td>\n",
       "      <td>0.000000</td>\n",
       "      <td>0.000000</td>\n",
       "      <td>0.000000</td>\n",
       "    </tr>\n",
       "    <tr>\n",
       "      <th>25%</th>\n",
       "      <td>223.500000</td>\n",
       "      <td>0.000000</td>\n",
       "      <td>2.000000</td>\n",
       "      <td>22.000000</td>\n",
       "      <td>0.000000</td>\n",
       "      <td>0.000000</td>\n",
       "      <td>7.910400</td>\n",
       "      <td>0.000000</td>\n",
       "      <td>0.000000</td>\n",
       "    </tr>\n",
       "    <tr>\n",
       "      <th>50%</th>\n",
       "      <td>446.000000</td>\n",
       "      <td>0.000000</td>\n",
       "      <td>3.000000</td>\n",
       "      <td>28.000000</td>\n",
       "      <td>0.000000</td>\n",
       "      <td>0.000000</td>\n",
       "      <td>14.454200</td>\n",
       "      <td>0.000000</td>\n",
       "      <td>1.000000</td>\n",
       "    </tr>\n",
       "    <tr>\n",
       "      <th>75%</th>\n",
       "      <td>668.500000</td>\n",
       "      <td>1.000000</td>\n",
       "      <td>3.000000</td>\n",
       "      <td>35.000000</td>\n",
       "      <td>1.000000</td>\n",
       "      <td>0.000000</td>\n",
       "      <td>31.000000</td>\n",
       "      <td>1.000000</td>\n",
       "      <td>1.000000</td>\n",
       "    </tr>\n",
       "    <tr>\n",
       "      <th>max</th>\n",
       "      <td>891.000000</td>\n",
       "      <td>1.000000</td>\n",
       "      <td>3.000000</td>\n",
       "      <td>80.000000</td>\n",
       "      <td>8.000000</td>\n",
       "      <td>6.000000</td>\n",
       "      <td>512.329200</td>\n",
       "      <td>10.000000</td>\n",
       "      <td>1.000000</td>\n",
       "    </tr>\n",
       "  </tbody>\n",
       "</table>\n",
       "</div>"
      ],
      "text/plain": [
       "       PassengerId    Survived      Pclass         Age       SibSp  \\\n",
       "count   891.000000  891.000000  891.000000  891.000000  891.000000   \n",
       "mean    446.000000    0.383838    2.308642   29.361582    0.523008   \n",
       "std     257.353842    0.486592    0.836071   13.019697    1.102743   \n",
       "min       1.000000    0.000000    1.000000    0.420000    0.000000   \n",
       "25%     223.500000    0.000000    2.000000   22.000000    0.000000   \n",
       "50%     446.000000    0.000000    3.000000   28.000000    0.000000   \n",
       "75%     668.500000    1.000000    3.000000   35.000000    1.000000   \n",
       "max     891.000000    1.000000    3.000000   80.000000    8.000000   \n",
       "\n",
       "            Parch        Fare  FamilySize     IsAlone  \n",
       "count  891.000000  891.000000  891.000000  891.000000  \n",
       "mean     0.381594   32.204208    0.904602    0.602694  \n",
       "std      0.806057   49.693429    1.613459    0.489615  \n",
       "min      0.000000    0.000000    0.000000    0.000000  \n",
       "25%      0.000000    7.910400    0.000000    0.000000  \n",
       "50%      0.000000   14.454200    0.000000    1.000000  \n",
       "75%      0.000000   31.000000    1.000000    1.000000  \n",
       "max      6.000000  512.329200   10.000000    1.000000  "
      ]
     },
     "execution_count": 11,
     "metadata": {},
     "output_type": "execute_result"
    }
   ],
   "source": [
    "df.describe()"
   ]
  },
  {
   "cell_type": "markdown",
   "id": "b20f7ef1",
   "metadata": {},
   "source": [
    "**2. What is the survival rate by gender?**"
   ]
  },
  {
   "cell_type": "code",
   "execution_count": 12,
   "id": "90436689",
   "metadata": {
    "scrolled": true
   },
   "outputs": [
    {
     "data": {
      "image/png": "[encoded data removed]",
      "text/plain": [
       "<Figure size 720x432 with 1 Axes>"
      ]
     },
     "metadata": {},
     "output_type": "display_data"
    }
   ],
   "source": [
    "# Visualize survival rate by gender\n",
    "plt.figure(figsize=(10, 6))\n",
    "sns.histplot(x='Age',  data=df)\n",
    "plt.title('Age distribution')\n",
    "plt.show()"
   ]
  },
  {
   "cell_type": "markdown",
   "id": "caad99d5",
   "metadata": {},
   "source": [
    "The distribution of age is nearly normal"
   ]
  },
  {
   "cell_type": "code",
   "execution_count": 13,
   "id": "ec5c1c18",
   "metadata": {
    "scrolled": true
   },
   "outputs": [
    {
     "data": {
      "image/png": "[encoded data removed]",
      "text/plain": [
       "<Figure size 720x432 with 1 Axes>"
      ]
     },
     "metadata": {},
     "output_type": "display_data"
    }
   ],
   "source": [
    "# Visualize survival rate by gender\n",
    "plt.figure(figsize=(10, 6))\n",
    "sns.countplot(x='Survived', hue='Sex', data=df)\n",
    "plt.title('Survival Rate by Gender')\n",
    "plt.show()"
   ]
  },
  {
   "cell_type": "markdown",
   "id": "f28e19c5",
   "metadata": {},
   "source": [
    "This shows that male passengers died far more than the female"
   ]
  },
  {
   "cell_type": "markdown",
   "id": "6c5e0959",
   "metadata": {},
   "source": [
    "**3. What is the survival rate by class?**"
   ]
  },
  {
   "cell_type": "code",
   "execution_count": 14,
   "id": "cef12e88",
   "metadata": {
    "scrolled": true
   },
   "outputs": [
    {
     "data": {
      "image/png": "[encoded data removed]",
      "text/plain": [
       "<Figure size 720x432 with 1 Axes>"
      ]
     },
     "metadata": {},
     "output_type": "display_data"
    }
   ],
   "source": [
    "# Visualize survival rate by class\n",
    "plt.figure(figsize=(10, 6))\n",
    "sns.countplot(x='Survived', hue='Pclass', data=df)\n",
    "plt.title('Survival Rate by Class')\n",
    "plt.show()"
   ]
  },
  {
   "cell_type": "markdown",
   "id": "9b8b88d7",
   "metadata": {},
   "source": [
    "## 4. Model Selection and Evaluation\n",
    "In this section, we will evaluate the performance of several different regressors on our data. We will use root mean squared error (RMSE) as our evaluation metric. RMSE is a measure of the difference between the predicted values and the true values. It is calculated as the square root of the mean squared error (MSE), where MSE is the average of the squared differences between the predicted and true values. Lower values of RMSE indicate better performance.\n",
    "\n",
    "We will fit and evaluate the following regressors:\n",
    "\n",
    "- Linear Regression\n",
    "- Decision Tree Regressor\n",
    "- Random Forest Regressor\n",
    "- Support Vector Regressor\n",
    "- K nearest neighbour, etc\n",
    "\n",
    "We will fit each of these regressors to our training data and make predictions on the test set. Then, we will calculate the RMSE of the predictions and compare the results to choose the best regressor."
   ]
  },
  {
   "cell_type": "code",
   "execution_count": 15,
   "id": "19f72ada",
   "metadata": {},
   "outputs": [],
   "source": [
    "# Encode categorical variables\n",
    "label_encoder = LabelEncoder()\n",
    "df['Sex'] = label_encoder.fit_transform(df['Sex'])\n",
    "df['Embarked'] = label_encoder.fit_transform(df['Embarked'])\n",
    "df['Title'] = label_encoder.fit_transform(df['Title'])"
   ]
  },
  {
   "cell_type": "markdown",
   "id": "94731b4f",
   "metadata": {},
   "source": [
    "We seperate the dataset into features and the target variable"
   ]
  },
  {
   "cell_type": "code",
   "execution_count": 16,
   "id": "3d6a632b",
   "metadata": {},
   "outputs": [],
   "source": [
    "# Select features and target\n",
    "features = ['Pclass', 'Sex', 'Age', 'Fare', 'FamilySize', 'IsAlone', 'Embarked', 'Title']\n",
    "target = 'Survived'\n",
    "\n",
    "\n",
    "X = df[features]\n",
    "y = df[target]"
   ]
  },
  {
   "cell_type": "markdown",
   "id": "e8f80ec4",
   "metadata": {},
   "source": [
    "**Scaling the features**\n",
    "\n",
    "Scaling is a preprocessing step that transforms the features of a dataset so that they have a similar scale and can improve the performance of some regression algorithms and facilitate comparison of the model's coefficients. In this project we will use standard scaler to standardize the features of the dataset."
   ]
  },
  {
   "cell_type": "code",
   "execution_count": 17,
   "id": "eaa543c6",
   "metadata": {},
   "outputs": [],
   "source": [
    "# Normalize numerical features\n",
    "scaler = StandardScaler()\n",
    "X[['Age', 'Fare', 'FamilySize']] = scaler.fit_transform(X[['Age', 'Fare', 'FamilySize']])"
   ]
  },
  {
   "cell_type": "markdown",
   "id": "0bf80d79",
   "metadata": {},
   "source": [
    "we split the dataset into training and testing set to better evaluate our model perfomance. The training set is used to train the model, while the testing set is used to evaluate the model's performance. This can help us determine how well the model generalizes to unseen data and can identify any issues with overfitting. In addition, random state shuffle the data before splitting it into the train and test sets, as this can help ensure that the data is representative of the overall population and not biased in any way."
   ]
  },
  {
   "cell_type": "code",
   "execution_count": 18,
   "id": "b70e059e",
   "metadata": {},
   "outputs": [],
   "source": [
    "# Split the data\n",
    "X_train, X_test, y_train, y_test = train_test_split(X, y, test_size=0.2, random_state=42)"
   ]
  },
  {
   "cell_type": "markdown",
   "id": "40c6ff24",
   "metadata": {},
   "source": [
    "We define a function that will take multiple regressor as arguments and compare theor perfomance using the root mean square (RMSE) metric."
   ]
  },
  {
   "cell_type": "code",
   "execution_count": 19,
   "id": "251f2c18",
   "metadata": {},
   "outputs": [],
   "source": [
    "def evaluate_model(model, X_train, y_train, X_test, y_test):\n",
    "    \"\"\"\n",
    "    Evaluate a model on training and test data.\n",
    "\n",
    "    Parameters\n",
    "    ----------\n",
    "    model : object\n",
    "        A scikit-learn estimator object.\n",
    "    X_train : array-like or pd.DataFrame\n",
    "        Training data with shape (n_samples, n_features).\n",
    "    y_train : array-like\n",
    "        Training labels with shape (n_samples,).\n",
    "    X_test : array-like or pd.DataFrame\n",
    "        Test data with shape (n_samples, n_features).\n",
    "    y_test : array-like\n",
    "        Test labels with shape (n_samples,).\n",
    "\n",
    "    Returns\n",
    "    -------\n",
    "    rmse : float\n",
    "        Root mean squared error between the test labels and the predictions.\n",
    "    \"\"\"\n",
    "    # train\n",
    "    model.fit(X_train, y_train)\n",
    "    # predict\n",
    "    y_pred = model.predict(X_test)\n",
    "    # calculate MSE\n",
    "    mse = mean_squared_error(y_test, y_pred)\n",
    "    # calculate RMSE\n",
    "    rmse = np.sqrt(mse)\n",
    "    return rmse\n"
   ]
  },
  {
   "cell_type": "code",
   "execution_count": 20,
   "id": "c51aaf03",
   "metadata": {},
   "outputs": [],
   "source": [
    "def evaluate_regressors_rmses(regressors, regressor_names, X_train, y_train, X_test, y_test):\n",
    "    \"\"\"\n",
    "    This function takes a list of regressors, their names, and the training and test data as input\n",
    "    and returns a dataframe with the names of the regressors and their root mean squared error (RMSE)\n",
    "    on the test data.\n",
    "    \n",
    "    Parameters:\n",
    "    -----------\n",
    "    regressors (list): a list of scikit-learn compatible regression models\n",
    "    regressor_names (list): a list of strings containing the names of the regression models\n",
    "    X_train (pandas DataFrame): a pandas DataFrame containing the features for training the models\n",
    "    y_train (pandas Series): a pandas Series containing the target values for training the models\n",
    "    X_test (pandas DataFrame): a pandas DataFrame containing the features for testing the models\n",
    "    y_test (pandas Series): a pandas Series containing the target values for testing the models\n",
    "    \n",
    "    Returns:\n",
    "    --------\n",
    "    pandas DataFrame: a dataframe containing the names of the regressors and their corresponding RMSE on the test data\n",
    "    \"\"\"\n",
    "    \n",
    "    # evaluate the models and compute their RMSE on the test data\n",
    "    rmses = [evaluate_model(regressor, X_train, y_train, X_test, y_test) for regressor in regressors]\n",
    "    \n",
    "    # create a dictionary mapping the names of the regressors to their RMSE\n",
    "    regressor_rmses = dict(zip(regressor_names, rmses))\n",
    "    \n",
    "    # convert the dictionary to a pandas dataframe\n",
    "    df = pd.DataFrame.from_dict(regressor_rmses, orient='index')\n",
    "    \n",
    "    # reset the index of the dataframe\n",
    "    df = df.reset_index()\n",
    "    \n",
    "    # rename the columns of the dataframe\n",
    "    df.columns = ['regressor_name', 'rmse']\n",
    "    \n",
    "    # sort the dataframe by RMSE in ascending order\n",
    "    return df.sort_values('rmse', ignore_index=True)\n"
   ]
  },
  {
   "cell_type": "code",
   "execution_count": 21,
   "id": "90a97dca",
   "metadata": {},
   "outputs": [],
   "source": [
    "# initialize the regressors\n",
    "linear_regressor = LinearRegression()\n",
    "polynomial_features = PolynomialFeatures(degree=2)\n",
    "polynomial_regressor = Pipeline([(\"polynomial_features\", polynomial_features),\n",
    "(\"linear_regression\", linear_regressor)])\n",
    "ridge_regressor = Ridge()\n",
    "lasso_regressor = Lasso()\n",
    "elastic_net_regressor = ElasticNet()\n",
    "decision_tree_regressor = DecisionTreeRegressor()\n",
    "random_forest_regressor = RandomForestRegressor()\n",
    "boosted_tree_regressor = GradientBoostingRegressor()\n",
    "neural_network_regressor = MLPRegressor()\n",
    "support_vector_regressor = SVR()\n",
    "grad_regressor = GradientBoostingRegressor(n_estimators=100, learning_rate=0.1, loss='ls')\n",
    "knn_regressor = KNeighborsRegressor(n_neighbors=5, weights='uniform')\n",
    "spline_regressor = make_pipeline(PolynomialFeatures(3), LinearRegression())"
   ]
  },
  {
   "cell_type": "code",
   "execution_count": 22,
   "id": "4a715203",
   "metadata": {},
   "outputs": [],
   "source": [
    "# collect the list of regressors\n",
    "regressors = [linear_regressor, polynomial_regressor, ridge_regressor, lasso_regressor, elastic_net_regressor, \n",
    "              decision_tree_regressor, random_forest_regressor, boosted_tree_regressor, neural_network_regressor, \n",
    "              support_vector_regressor, knn_regressor, spline_regressor]\n",
    "\n",
    "# collect the names of regressors\n",
    "regressor_names = [\"Linear Regression\", \"Polynomial Regression\", \"Ridge Regression\", \"Lasso Regression\", \n",
    "                   \"Elastic Net Regression\", \"Decision Tree Regression\", \"Random Forest Regression\", \n",
    "                   \"Boosted Tree Regression\", \"Neural Network Regression\", \"Support Vector Regression\", \n",
    "                   \"K-Nearest Neighbour Regression\", \"Spline Regression\"]\n"
   ]
  },
  {
   "cell_type": "code",
   "execution_count": 23,
   "id": "3995d6af",
   "metadata": {
    "scrolled": false
   },
   "outputs": [
    {
     "name": "stdout",
     "output_type": "stream",
     "text": [
      "\u001b[1m Table of regressors and their RMSEs\n"
     ]
    },
    {
     "data": {
      "text/html": [
       "<div>\n",
       "<style scoped>\n",
       "    .dataframe tbody tr th:only-of-type {\n",
       "        vertical-align: middle;\n",
       "    }\n",
       "\n",
       "    .dataframe tbody tr th {\n",
       "        vertical-align: top;\n",
       "    }\n",
       "\n",
       "    .dataframe thead th {\n",
       "        text-align: right;\n",
       "    }\n",
       "</style>\n",
       "<table border=\"1\" class=\"dataframe\">\n",
       "  <thead>\n",
       "    <tr style=\"text-align: right;\">\n",
       "      <th></th>\n",
       "      <th>regressor_name</th>\n",
       "      <th>rmse</th>\n",
       "    </tr>\n",
       "  </thead>\n",
       "  <tbody>\n",
       "    <tr>\n",
       "      <th>0</th>\n",
       "      <td>Random Forest Regression</td>\n",
       "      <td>0.357743</td>\n",
       "    </tr>\n",
       "    <tr>\n",
       "      <th>1</th>\n",
       "      <td>Boosted Tree Regression</td>\n",
       "      <td>0.357918</td>\n",
       "    </tr>\n",
       "    <tr>\n",
       "      <th>2</th>\n",
       "      <td>Ridge Regression</td>\n",
       "      <td>0.363468</td>\n",
       "    </tr>\n",
       "    <tr>\n",
       "      <th>3</th>\n",
       "      <td>Linear Regression</td>\n",
       "      <td>0.363470</td>\n",
       "    </tr>\n",
       "    <tr>\n",
       "      <th>4</th>\n",
       "      <td>Polynomial Regression</td>\n",
       "      <td>0.376299</td>\n",
       "    </tr>\n",
       "    <tr>\n",
       "      <th>5</th>\n",
       "      <td>Neural Network Regression</td>\n",
       "      <td>0.389662</td>\n",
       "    </tr>\n",
       "    <tr>\n",
       "      <th>6</th>\n",
       "      <td>Support Vector Regression</td>\n",
       "      <td>0.394318</td>\n",
       "    </tr>\n",
       "    <tr>\n",
       "      <th>7</th>\n",
       "      <td>K-Nearest Neighbour Regression</td>\n",
       "      <td>0.398601</td>\n",
       "    </tr>\n",
       "    <tr>\n",
       "      <th>8</th>\n",
       "      <td>Decision Tree Regression</td>\n",
       "      <td>0.451586</td>\n",
       "    </tr>\n",
       "    <tr>\n",
       "      <th>9</th>\n",
       "      <td>Lasso Regression</td>\n",
       "      <td>0.493833</td>\n",
       "    </tr>\n",
       "    <tr>\n",
       "      <th>10</th>\n",
       "      <td>Elastic Net Regression</td>\n",
       "      <td>0.493833</td>\n",
       "    </tr>\n",
       "    <tr>\n",
       "      <th>11</th>\n",
       "      <td>Spline Regression</td>\n",
       "      <td>1.306523</td>\n",
       "    </tr>\n",
       "  </tbody>\n",
       "</table>\n",
       "</div>"
      ],
      "text/plain": [
       "                    regressor_name      rmse\n",
       "0         Random Forest Regression  0.357743\n",
       "1          Boosted Tree Regression  0.357918\n",
       "2                 Ridge Regression  0.363468\n",
       "3                Linear Regression  0.363470\n",
       "4            Polynomial Regression  0.376299\n",
       "5        Neural Network Regression  0.389662\n",
       "6        Support Vector Regression  0.394318\n",
       "7   K-Nearest Neighbour Regression  0.398601\n",
       "8         Decision Tree Regression  0.451586\n",
       "9                 Lasso Regression  0.493833\n",
       "10          Elastic Net Regression  0.493833\n",
       "11               Spline Regression  1.306523"
      ]
     },
     "execution_count": 23,
     "metadata": {},
     "output_type": "execute_result"
    }
   ],
   "source": [
    "print('\\033[1m Table of regressors and their RMSEs')\n",
    "evaluate_regressors_rmses(regressors, regressor_names, X_train, y_train, X_test, y_test)"
   ]
  },
  {
   "cell_type": "markdown",
   "id": "81a6da2f",
   "metadata": {},
   "source": [
    "The best regressor among the ones listed, based on the RMSE (Root Mean Squared Error), is the Random Forest Regression with an RMSE of 0.353551. Lower RMSE values indicate better model performance in terms of predictive accuracy."
   ]
  },
  {
   "cell_type": "markdown",
   "id": "4c09c312",
   "metadata": {},
   "source": [
    "## 5. CONCLUSION\n",
    "\n",
    "In conclusion, our analysis explore the survival rate of the passengers with low survival among men. Our random forest regressor outperform any other regression."
   ]
  }
 ],
 "metadata": {
  "kernelspec": {
   "display_name": "Python 3 (ipykernel)",
   "language": "python",
   "name": "python3"
  },
  "language_info": {
   "codemirror_mode": {
    "name": "ipython",
    "version": 3
   },
   "file_extension": ".py",
   "mimetype": "text/x-python",
   "name": "python",
   "nbconvert_exporter": "python",
   "pygments_lexer": "ipython3",
   "version": "3.9.7"
  }
 },
 "nbformat": 4,
 "nbformat_minor": 5
}
